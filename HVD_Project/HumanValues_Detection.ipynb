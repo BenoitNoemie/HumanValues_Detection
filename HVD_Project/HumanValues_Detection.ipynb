{
  "nbformat": 4,
  "nbformat_minor": 0,
  "metadata": {
    "colab": {
      "provenance": []
    },
    "kernelspec": {
      "name": "python3",
      "display_name": "Python 3"
    },
    "language_info": {
      "name": "python"
    }
  },
  "cells": [
    {
      "cell_type": "markdown",
      "source": [
        "## Imports"
      ],
      "metadata": {
        "id": "md1C-MMorVrm"
      }
    },
    {
      "cell_type": "code",
      "source": [
        "import pandas as pd\n",
        "import numpy as np\n",
        "import os\n",
        "from google.colab import drive"
      ],
      "metadata": {
        "id": "bILz_lJYm3pv"
      },
      "execution_count": 88,
      "outputs": []
    },
    {
      "cell_type": "markdown",
      "source": [
        "## Load the datasets into Pandas Objects"
      ],
      "metadata": {
        "id": "ccev8JqkqAe1"
      }
    },
    {
      "cell_type": "code",
      "execution_count": 89,
      "metadata": {
        "id": "XYyOcfd2mxBM"
      },
      "outputs": [],
      "source": [
        "# Arguments datasets\n",
        "argtraindf = pd.read_csv('/content/drive/MyDrive/arg_datasets/arguments-training.tsv', sep='\\t')\n",
        "argvaldf = pd.read_csv('/content/drive/MyDrive/arg_datasets/arguments-validation.tsv', sep='\\t')\n",
        "argtestdf = pd.read_csv('/content/drive/MyDrive/arg_datasets/arguments-test.tsv', sep='\\t')"
      ]
    },
    {
      "cell_type": "code",
      "source": [
        "# Labels datasets\n",
        "labtraindf = pd.read_csv('/content/drive/MyDrive/lab_datasets/labels-training.tsv', sep='\\t')\n",
        "labvaldf = pd.read_csv('/content/drive/MyDrive/lab_datasets/labels-validation.tsv', sep='\\t')\n",
        "labtestdf = pd.read_csv('/content/drive/MyDrive/lab_datasets/labels-test.tsv', sep='\\t')"
      ],
      "metadata": {
        "id": "e-zY9p4Km3nc"
      },
      "execution_count": 90,
      "outputs": []
    },
    {
      "cell_type": "code",
      "source": [
        "# // Get some info about datasets (e.g., argtraindf) //\n",
        "\n",
        "#argtraindf.head()\n",
        "#argtraindf.describe()\n",
        "#argtraindf.info()"
      ],
      "metadata": {
        "id": "UXpwqtTwm3rj"
      },
      "execution_count": 91,
      "outputs": []
    },
    {
      "cell_type": "markdown",
      "source": [
        "## Merge of the datasets"
      ],
      "metadata": {
        "id": "RSri2fKhyN46"
      }
    },
    {
      "cell_type": "code",
      "source": [
        "train_data = argtraindf.merge(labtraindf)\n",
        "val_data = argvaldf.merge(labvaldf)\n",
        "test_data = argtestdf.merge(labtestdf)"
      ],
      "metadata": {
        "id": "p1gozdtOm3tH"
      },
      "execution_count": 92,
      "outputs": []
    },
    {
      "cell_type": "markdown",
      "source": [
        "## Merge level 2 of values categories with their corresponding level 3 higher level values (level 3)\n",
        "\n",
        "Example : Merge 'stimulation' & 'action' (level 2) that belong to 'Openness to change' (level 3)"
      ],
      "metadata": {
        "id": "8eY823b63GHi"
      }
    },
    {
      "cell_type": "code",
      "source": [
        "# // Level 3 is not implemented so we need to create ourselves each category (4), and then distribute their\n",
        "#    corresponding values into them //"
      ],
      "metadata": {
        "id": "JGlNmeZH1vUR"
      },
      "execution_count": null,
      "outputs": []
    },
    {
      "cell_type": "code",
      "source": [
        "columns_to_check_for_OTC = np.array(train_data.iloc[:, 4])\n",
        "for i in range (5, 9):\n",
        "  columns_to_check_for_OTC = np.logical_or(columns_to_check_for_OTC, train_data.iloc[:, i])\n",
        "\n",
        "values_OTC = columns_to_check_for_OTC.astype(\"int8\")"
      ],
      "metadata": {
        "id": "l7PL0TzZWAlV"
      },
      "execution_count": 94,
      "outputs": []
    },
    {
      "cell_type": "code",
      "source": [
        "open_to_change_df = pd.DataFrame(values_OTC, columns=['Openness to change'])"
      ],
      "metadata": {
        "id": "9xAld9QtNeZ2"
      },
      "execution_count": 95,
      "outputs": []
    },
    {
      "cell_type": "code",
      "source": [
        "print(open_to_change_df)"
      ],
      "metadata": {
        "colab": {
          "base_uri": "https://localhost:8080/"
        },
        "id": "RoVAHqOk1vXF",
        "outputId": "e88a1e99-0de9-4a9b-edb8-6fee5e94783d"
      },
      "execution_count": 96,
      "outputs": [
        {
          "output_type": "stream",
          "name": "stdout",
          "text": [
            "      Openness to change\n",
            "0                      0\n",
            "1                      0\n",
            "2                      0\n",
            "3                      0\n",
            "4                      0\n",
            "...                  ...\n",
            "5388                   1\n",
            "5389                   0\n",
            "5390                   0\n",
            "5391                   0\n",
            "5392                   1\n",
            "\n",
            "[5393 rows x 1 columns]\n"
          ]
        }
      ]
    },
    {
      "cell_type": "code",
      "source": [],
      "metadata": {
        "id": "i-UhMuUY3tv7"
      },
      "execution_count": 83,
      "outputs": []
    },
    {
      "cell_type": "code",
      "source": [],
      "metadata": {
        "id": "F3f4ZLZd3tx9"
      },
      "execution_count": null,
      "outputs": []
    },
    {
      "cell_type": "code",
      "source": [],
      "metadata": {
        "id": "p8ZoQQ-y3t0C"
      },
      "execution_count": null,
      "outputs": []
    },
    {
      "cell_type": "code",
      "source": [],
      "metadata": {
        "id": "m0dCbAFB3t2Y"
      },
      "execution_count": null,
      "outputs": []
    }
  ]
}